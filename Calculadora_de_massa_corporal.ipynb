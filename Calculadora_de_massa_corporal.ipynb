{
  "nbformat": 4,
  "nbformat_minor": 0,
  "metadata": {
    "colab": {
      "provenance": []
    },
    "kernelspec": {
      "name": "python3",
      "display_name": "Python 3"
    },
    "language_info": {
      "name": "python"
    }
  },
  "cells": [
    {
      "cell_type": "code",
      "execution_count": null,
      "metadata": {
        "id": "kIDK2fexmLX7"
      },
      "outputs": [],
      "source": [
        "# Cálculo do Índice de Massa Corporal\n",
        "import os\n",
        "\n",
        "altura = float(input(\"Digite sua altura em metros: \"))\n",
        "peso = float(input(\"Digite seu peso em Kg: \"))\n",
        "\n",
        "imc = peso / altura**2\n",
        "\n",
        "print(\"Seu IMC é: %.4f\" % imc)\n",
        "\n",
        "if imc < 18:\n",
        "\tprint(\"Magreza grave\")\n",
        "elif imc > 18:\n",
        "\tprint(\"Saudável\")\n",
        "elif imc < 25:\n",
        "\tprint(\"Saudável\")\n",
        "elif imc > 30:\n",
        "\tprint(\"Sobrepeso Grau I\")\n",
        "elif imc > 35:\n",
        "\tprint(\"Obesidade Grau II\")\n",
        "elif imc > 40:\n",
        "\tprint(\"Obesidade Grau III (severa)\")\n",
        "\n",
        "\n",
        "os.system(\"pause\")"
      ]
    }
  ]
}